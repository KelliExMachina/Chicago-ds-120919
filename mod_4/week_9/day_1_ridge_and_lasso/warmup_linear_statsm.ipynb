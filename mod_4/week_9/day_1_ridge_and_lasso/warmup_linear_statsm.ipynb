{
 "cells": [
  {
   "cell_type": "markdown",
   "metadata": {},
   "source": [
    "Using the auto data found in the directory, run a multiple linear regression model to predict `mpg` of a car using the features `displacement`, `weight`, and `acceleration` using statsmodels (note: cylinders is dropped because it is highly correlated with other variables). **Look into** how to add a constant to your model! Statsmodels does not include an intercept by default. Examine the results and answer the following questions in the thread:\n",
    "\n",
    "- What is the R-squared value?\n",
    "- What does the R-squared value tell us?  \n",
    "- Were all the features significant at the .05 alpha level? \n"
   ]
  }
 ],
 "metadata": {
  "kernelspec": {
   "display_name": "Python 3",
   "language": "python",
   "name": "python3"
  },
  "language_info": {
   "codemirror_mode": {
    "name": "ipython",
    "version": 3
   },
   "file_extension": ".py",
   "mimetype": "text/x-python",
   "name": "python",
   "nbconvert_exporter": "python",
   "pygments_lexer": "ipython3",
   "version": "3.7.3"
  }
 },
 "nbformat": 4,
 "nbformat_minor": 4
}

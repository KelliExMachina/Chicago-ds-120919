{
 "cells": [
  {
   "cell_type": "code",
   "execution_count": 1,
   "metadata": {},
   "outputs": [],
   "source": [
    "import pandas as pd\n",
    "import numpy as np\n",
    "from nltk.stem import *\n",
    "from nltk.corpus import stopwords\n",
    "from nltk import FreqDist\n",
    "from nltk.collocations import BigramCollocationFinder, BigramAssocMeasures, TrigramCollocationFinder, TrigramAssocMeasures\n",
    "import matplotlib.pyplot as plt"
   ]
  },
  {
   "cell_type": "markdown",
   "metadata": {},
   "source": [
    "For this morning's task, we will be working with policy text scraped from the Warren and Sanders campaigns.  "
   ]
  },
  {
   "cell_type": "code",
   "execution_count": 2,
   "metadata": {},
   "outputs": [
    {
     "data": {
      "text/plain": [
       "0      As published on Medium on September 3rd, 2019:...\n",
       "1      Small businesses are the heart of our economy....\n",
       "2      As published on Medium on July 11th, 2019:\\nIm...\n",
       "3      Working families all across the country are ge...\n",
       "4      I attended public school growing up in Oklahom...\n",
       "                             ...                        \n",
       "184                  A Commitment to America's Heartland\n",
       "185                   Dignity and Security in Retirement\n",
       "186    Small-donor matching system for federal electi...\n",
       "187            Our Shared Duty: Serving Those Who Served\n",
       "188    A 21st Century Voting Rights Act to end all ty...\n",
       "Name: policy, Length: 189, dtype: object"
      ]
     },
     "execution_count": 2,
     "metadata": {},
     "output_type": "execute_result"
    }
   ],
   "source": [
    "# Import the data from the data folder. \n",
    "# We will be working mainly with the 'Policy' feature\n",
    "\n",
    "df = pd.read_csv('data/2020_policies_feb_24.csv')\n",
    "df.policy"
   ]
  },
  {
   "cell_type": "markdown",
   "metadata": {},
   "source": [
    "# Question set 1:\n",
    "After remove punctuation and ridding the text of numbers and other low semantic value text, answer the following questions.\n",
    "\n",
    "1. Which document has the greatest average word length?\n",
    "2. What is the average word length of the entire corpus?\n",
    "3. Which is greater, the average word length for the documents in the Warren or Sanders campaigns? \n",
    "\n",
    "For each question set, Slack out your answers, which will vary depending on which preprocessing choices you make."
   ]
  },
  {
   "cell_type": "code",
   "execution_count": 3,
   "metadata": {},
   "outputs": [
    {
     "name": "stdout",
     "output_type": "stream",
     "text": [
      "The text of the document with the greatest word length is:\n",
      "      Establish independent, statewide redistricting commissions.\n"
     ]
    }
   ],
   "source": [
    "# Q1 (your answers may vary based on the type of preprocessing steps you took)\n",
    "from nltk import regexp_tokenize\n",
    "\n",
    "pattern = r'[A-Za-z]\\w+'\n",
    "\n",
    "# use regex expression to select words, get rid of punctuation and numbers\n",
    "token_policy = [regexp_tokenize(policy, pattern) for policy in df.policy]\n",
    "\n",
    "avg_lengths = []\n",
    "for doc in token_policy:\n",
    "    word_lengths = sum([len(word) for word in doc])\n",
    "    avg_lengths.append(word_lengths/len(doc))\n",
    "    \n",
    "longest = sorted(avg_lengths, reverse=True)[0]\n",
    "print(f'''The text of the document with the greatest word length is:\n",
    "      {df.iloc[avg_lengths.index(longest)].policy}''')"
   ]
  },
  {
   "cell_type": "code",
   "execution_count": 4,
   "metadata": {},
   "outputs": [
    {
     "name": "stdout",
     "output_type": "stream",
     "text": [
      "Avg. word length across all docs: \n",
      "      5.373398604619577\n"
     ]
    }
   ],
   "source": [
    "# 2 Average Word Length\n",
    "total_tokens = []\n",
    "\n",
    "for doc in token_policy:\n",
    "    total_tokens.extend([len(word) for word in doc])\n",
    "print(f'''Avg. word length across all docs: \n",
    "      {sum(total_tokens)/len(total_tokens)}''')"
   ]
  },
  {
   "cell_type": "code",
   "execution_count": 5,
   "metadata": {},
   "outputs": [
    {
     "name": "stdout",
     "output_type": "stream",
     "text": [
      "avg length of warren: 5.3276878632879585\n",
      "avg length of sanders: 5.274844434862794\n",
      "Warren has the greater average word length\n"
     ]
    }
   ],
   "source": [
    "# 3 Greater avg word length\n",
    "\n",
    "warren_policies = df[df.candidate=='warren'].policy\n",
    "\n",
    "token_warren= [regexp_tokenize(policy, pattern) for policy in warren_policies] \n",
    "\n",
    "\n",
    "warren_lengths = []\n",
    "for doc in token_warren:\n",
    "    word_lengths = sum([len(word) for word in doc])\n",
    "    warren_lengths.append(word_lengths/len(doc))\n",
    " \n",
    "print(f\"avg length of warren: {sum(warren_lengths)/len(warren_lengths)}\")\n",
    "\n",
    "sanders_policies = df[df.candidate=='sanders'].policy\n",
    "\n",
    "token_sanders= [regexp_tokenize(policy, pattern) for policy in sanders_policies] \n",
    "\n",
    "sanders_lengths = []\n",
    "for doc in token_sanders:\n",
    "    word_lengths = sum([len(word) for word in doc])\n",
    "    sanders_lengths.append(word_lengths/len(doc))\n",
    " \n",
    "print(f\"avg length of sanders: {sum(sanders_lengths)/len(sanders_lengths)}\")\n",
    "print('Warren has the greater average word length')"
   ]
  },
  {
   "cell_type": "markdown",
   "metadata": {},
   "source": [
    "Proceed through the remaining standard preprocessing steps in whatever manner you see fit. Make sure to:\n",
    "- Make text lowercase\n",
    "- Remove stopwords\n",
    "- Stem or lemmatize"
   ]
  },
  {
   "cell_type": "markdown",
   "metadata": {},
   "source": [
    "# Question set 2:\n",
    "1. What are the most common words across the corpus?\n",
    "2. What are the most common words across each campaign?\n",
    "\n",
    "> in order to answer these questions, you may find the nltk FreqDist function helpful.\n",
    "\n",
    "3. Use the FreqDist plot method to make a frequency plot for the corpus as a whole.  \n",
    "4. Based on that plot, should any more words be added to our stopword library?\n"
   ]
  },
  {
   "cell_type": "code",
   "execution_count": 6,
   "metadata": {},
   "outputs": [
    {
     "name": "stdout",
     "output_type": "stream",
     "text": [
      "feder\n",
      "[('feder', 1341), ('peopl', 1305), ('commun', 1230), ('care', 1202), ('make', 1191), ('american', 1180), ('health', 1080), ('program', 1066), ('provid', 1061), ('state', 1043)]\n"
     ]
    }
   ],
   "source": [
    "# 2.1 \n",
    "all_words = []\n",
    "for doc in token_policy:\n",
    "    all_words.extend([word.lower() for word in doc])\n",
    "\n",
    "all_words = [word for word in all_words if word not in stopwords.words('english')]\n",
    "\n",
    "p_stem = PorterStemmer()\n",
    "all_words_stemmed = [p_stem.stem(word) for word in all_words]\n",
    "\n",
    "# Two ways of doing it. Find the most common word:\n",
    "words, count = np.unique(all_words_stemmed, return_counts=True)\n",
    "word_count_ind = np.argsort(-count)\n",
    "print(words[word_count_ind[0]])\n",
    "\n",
    "# or use FreqDist to find most common words\n",
    "print(FreqDist(all_words_stemmed).most_common(10))"
   ]
  },
  {
   "cell_type": "code",
   "execution_count": 7,
   "metadata": {},
   "outputs": [
    {
     "name": "stdout",
     "output_type": "stream",
     "text": [
      "[('federal', 860), ('people', 691), ('health', 656), ('also', 630), ('care', 621), ('plan', 610), ('new', 601), ('public', 547), ('government', 543), ('make', 527)]\n"
     ]
    }
   ],
   "source": [
    "# 2.2 \n",
    "\n",
    "# most common words Warren\n",
    "token_warren= [regexp_tokenize(policy, pattern) for policy in warren_policies] \n",
    "all_warren = []\n",
    "for doc in token_warren:\n",
    "    all_warren.extend([word.lower() for word in doc])\n",
    "all_warren = [word for word in all_warren if word not in stopwords.words('english')]\n",
    "fd_warren = FreqDist(all_warren)\n",
    "print(fd_warren.most_common(10))\n"
   ]
  },
  {
   "cell_type": "code",
   "execution_count": 8,
   "metadata": {},
   "outputs": [
    {
     "name": "stdout",
     "output_type": "stream",
     "text": [
      "[('people', 429), ('ensure', 364), ('bernie', 357), ('care', 324), ('disabilities', 292), ('percent', 277), ('workers', 264), ('federal', 235), ('provide', 224), ('president', 214)]\n"
     ]
    }
   ],
   "source": [
    "# most common words Sanders\n",
    "token_sanders= [regexp_tokenize(policy, pattern) for policy in sanders_policies] \n",
    "all_sanders = []\n",
    "for doc in token_sanders:\n",
    "    all_sanders.extend([word.lower() for word in doc])\n",
    "all_sanders = [word for word in all_sanders if word not in stopwords.words('english')]\n",
    "fd_sanders = FreqDist(all_sanders)\n",
    "print(fd_sanders.most_common(10))\n"
   ]
  },
  {
   "cell_type": "code",
   "execution_count": 9,
   "metadata": {},
   "outputs": [
    {
     "data": {
      "image/png": "[encoded data removed]",
      "text/plain": [
       "<Figure size 432x288 with 1 Axes>"
      ]
     },
     "metadata": {
      "needs_background": "light"
     },
     "output_type": "display_data"
    },
    {
     "data": {
      "text/plain": [
       "<matplotlib.axes._subplots.AxesSubplot at 0x1a236b59e8>"
      ]
     },
     "execution_count": 9,
     "metadata": {},
     "output_type": "execute_result"
    }
   ],
   "source": [
    "2.3\n",
    "# frequency plot for all campaign words\n",
    "fd_campaigns = FreqDist(all_words_stemmed)\n",
    "fd_campaigns.plot(10)\n"
   ]
  },
  {
   "cell_type": "code",
   "execution_count": 10,
   "metadata": {},
   "outputs": [],
   "source": [
    "# 2.4\n",
    "# It looks like 'make', 'also', 'Bernie' should be added to the stopword list. "
   ]
  },
  {
   "cell_type": "markdown",
   "metadata": {},
   "source": [
    "# Question set 3:\n",
    "\n",
    "1. What are the most common bigrams in the corpus?\n",
    "2. What are the most common bigrams in the Warren campain and the Sanders campaign, respectively?\n",
    "3. Answer questions 1 and 2 for trigrams.\n",
    "\n",
    "> Hint: You may find it useful to leverage the nltk.collocations functions"
   ]
  },
  {
   "cell_type": "code",
   "execution_count": 11,
   "metadata": {},
   "outputs": [
    {
     "name": "stdout",
     "output_type": "stream",
     "text": [
      "[('health', 'care'), ('senat', 'klobuchar')]\n"
     ]
    }
   ],
   "source": [
    "# 3.1 most common bigrams\n",
    "bigram_measures = BigramAssocMeasures()\n",
    "finder = BigramCollocationFinder.from_words(all_words_stemmed)\n",
    "print(sorted(finder.nbest(bigram_measures.raw_freq, 2)))\n",
    "\n"
   ]
  },
  {
   "cell_type": "code",
   "execution_count": 12,
   "metadata": {},
   "outputs": [
    {
     "name": "stdout",
     "output_type": "stream",
     "text": [
      "[('feder', 'govern'), ('health', 'care')]\n",
      "[('peopl', 'disabl'), ('presid', 'berni')]\n"
     ]
    }
   ],
   "source": [
    "# 3.2 bigrams for Warren/Sanders\n",
    "\n",
    "all_warren_stemmed = [p_stem.stem(word) for word in all_warren]\n",
    "finder = BigramCollocationFinder.from_words(all_warren_stemmed)\n",
    "print(sorted(finder.nbest(bigram_measures.raw_freq, 2)))\n",
    "\n",
    "all_sanders_stemmed = [p_stem.stem(word) for word in all_sanders]\n",
    "finder = BigramCollocationFinder.from_words(all_sanders_stemmed)\n",
    "print(sorted(finder.nbest(bigram_measures.raw_freq, 2)))\n"
   ]
  },
  {
   "cell_type": "code",
   "execution_count": 13,
   "metadata": {},
   "outputs": [
    {
     "name": "stdout",
     "output_type": "stream",
     "text": [
      "[('actblu', 'express', 'donat'), ('email', 'zip', 'submit')]\n",
      "[('green', 'new', 'deal'), ('key', 'point', 'detail')]\n"
     ]
    }
   ],
   "source": [
    "# 3.3 Trigrams\n",
    "\n",
    "trigram_measures = TrigramAssocMeasures()\n",
    "finder = TrigramCollocationFinder.from_words(all_warren_stemmed)\n",
    "print(sorted(finder.nbest(trigram_measures.raw_freq, 2)))\n",
    "\n",
    "finder = TrigramCollocationFinder.from_words(all_sanders_stemmed)\n",
    "print(sorted(finder.nbest(trigram_measures.raw_freq, 2)))\n"
   ]
  },
  {
   "cell_type": "code",
   "execution_count": 14,
   "metadata": {},
   "outputs": [],
   "source": [
    "# those tri-grams expose some other stopwords that we should probably deal with\n"
   ]
  }
 ],
 "metadata": {
  "kernelspec": {
   "display_name": "Python 3",
   "language": "python",
   "name": "python3"
  },
  "language_info": {
   "codemirror_mode": {
    "name": "ipython",
    "version": 3
   },
   "file_extension": ".py",
   "mimetype": "text/x-python",
   "name": "python",
   "nbconvert_exporter": "python",
   "pygments_lexer": "ipython3",
   "version": "3.7.3"
  }
 },
 "nbformat": 4,
 "nbformat_minor": 4
}

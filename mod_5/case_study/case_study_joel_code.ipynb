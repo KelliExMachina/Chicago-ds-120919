{
 "cells": [
  {
   "cell_type": "code",
   "execution_count": 1,
   "metadata": {
    "ExecuteTime": {
     "end_time": "2020-02-20T21:43:22.664390Z",
     "start_time": "2020-02-20T21:43:21.402216Z"
    }
   },
   "outputs": [],
   "source": [
    "import pandas as pd\n",
    "import numpy as np\n",
    "import xgboost as xgb\n",
    "import matplotlib.pyplot as plt\n",
    "\n",
    "## Data Processing\n",
    "from sklearn.datasets import load_breast_cancer\n",
    "from sklearn.decomposition import PCA\n",
    "from sklearn.preprocessing import StandardScaler\n",
    "\n",
    "## Data Modeling\n",
    "from sklearn.model_selection import train_test_split, GridSearchCV\n",
    "from sklearn.pipeline import Pipeline\n",
    "\n",
    "## Machine Learning Algos\n",
    "from sklearn.neighbors import KNeighborsClassifier\n",
    "from sklearn.tree import DecisionTreeClassifier\n",
    "from sklearn.ensemble import RandomForestClassifier, AdaBoostClassifier, GradientBoostingClassifier\n",
    "\n",
    "##\n",
    "from sklearn.metrics import accuracy_score, precision_score, recall_score,f1_score, confusion_matrix, classification_report\n",
    "data = load_breast_cancer()\n",
    "\n",
    "df = pd.DataFrame(data['data'])\n",
    "df.columns = data['feature_names']\n",
    "df['target'] = data['target']\n",
    "\n",
    "df.head()\n",
    "\n",
    "X = df.drop('target', axis = 1)\n",
    "y = df.target\n",
    "X_train, X_test, y_train, y_test = train_test_split(X, y, test_size = .1)"
   ]
  },
  {
   "cell_type": "markdown",
   "metadata": {},
   "source": [
    "# KNN"
   ]
  },
  {
   "cell_type": "code",
   "execution_count": 2,
   "metadata": {
    "ExecuteTime": {
     "end_time": "2020-02-20T21:43:24.902143Z",
     "start_time": "2020-02-20T21:43:24.730965Z"
    }
   },
   "outputs": [
    {
     "data": {
      "text/plain": [
       "0.9824561403508771"
      ]
     },
     "execution_count": 2,
     "metadata": {},
     "output_type": "execute_result"
    }
   ],
   "source": [
    "knn_pipe = Pipeline([('sscaler', StandardScaler()),\n",
    "                 ('knn', KNeighborsClassifier())])\n",
    "\n",
    "knn_params = {'knn__n_neighbors': [2,3,4,5]}\n",
    "\n",
    "knn_grid = GridSearchCV(estimator=knn_pipe, \n",
    "                          param_grid=knn_params, \n",
    "                          scoring='accuracy', \n",
    "                          cv=5)\n",
    "\n",
    "knn_grid.fit(X_train, y_train)\n",
    "knn_grid.score(X_test, y_test)"
   ]
  },
  {
   "cell_type": "code",
   "execution_count": 378,
   "metadata": {
    "ExecuteTime": {
     "end_time": "2020-02-20T21:33:09.692211Z",
     "start_time": "2020-02-20T21:33:09.150097Z"
    }
   },
   "outputs": [
    {
     "data": {
      "text/plain": [
       "0.9122807017543859"
      ]
     },
     "execution_count": 378,
     "metadata": {},
     "output_type": "execute_result"
    }
   ],
   "source": [
    "knn_pipe = Pipeline([('pca', PCA()),\n",
    "                 ('knn', KNeighborsClassifier())])\n",
    "\n",
    "knn_params = {'pca__n_components': [5,10,15,20],\n",
    "                'knn__n_neighbors': [2,3,4,5]}\n",
    "\n",
    "knn_grid = GridSearchCV(estimator=knn_pipe, \n",
    "                          param_grid=knn_params, \n",
    "                          scoring='accuracy', \n",
    "                          cv=5)\n",
    "\n",
    "knn_grid.fit(X_train, y_train)\n",
    "knn_grid.score(X_test, y_test)"
   ]
  },
  {
   "cell_type": "markdown",
   "metadata": {},
   "source": [
    "# Decision Tree"
   ]
  },
  {
   "cell_type": "code",
   "execution_count": 348,
   "metadata": {
    "ExecuteTime": {
     "end_time": "2020-02-20T20:37:39.768968Z",
     "start_time": "2020-02-20T20:37:38.217339Z"
    }
   },
   "outputs": [
    {
     "data": {
      "text/plain": [
       "0.6993006993006993"
      ]
     },
     "execution_count": 348,
     "metadata": {},
     "output_type": "execute_result"
    }
   ],
   "source": [
    "tree = DecisionTreeClassifier()\n",
    "\n",
    "tree_params = {'criterion': ['entropy', 'gini'],\n",
    "              'max_depth': np.linspace(0.1, 0.5, 5, endpoint=True),\n",
    "              'max_features': [x for x in range(15,30)]}\n",
    "\n",
    "\n",
    "tree_grid = GridSearchCV(estimator=tree, \n",
    "                          param_grid=tree_params, \n",
    "                          scoring='accuracy', \n",
    "                          cv=5)\n",
    "\n",
    "tree_grid.fit(X_train, y_train)\n",
    "tree_grid.score(X_test, y_test)"
   ]
  },
  {
   "cell_type": "markdown",
   "metadata": {},
   "source": [
    "# Random Forest"
   ]
  },
  {
   "cell_type": "code",
   "execution_count": 350,
   "metadata": {
    "ExecuteTime": {
     "end_time": "2020-02-20T20:43:53.456244Z",
     "start_time": "2020-02-20T20:43:27.999812Z"
    }
   },
   "outputs": [
    {
     "name": "stderr",
     "output_type": "stream",
     "text": [
      "/opt/anaconda3/lib/python3.7/site-packages/sklearn/model_selection/_search.py:814: DeprecationWarning: The default of the `iid` parameter will change from True to False in version 0.22 and will be removed in 0.24. This will change numeric results when test-set sizes are unequal.\n",
      "  DeprecationWarning)\n"
     ]
    },
    {
     "data": {
      "text/plain": [
       "0.986013986013986"
      ]
     },
     "execution_count": 350,
     "metadata": {},
     "output_type": "execute_result"
    }
   ],
   "source": [
    "rf = RandomForestClassifier()\n",
    "\n",
    "rf_params = {\n",
    "    'n_estimators': [10, 30, 100],\n",
    "    'criterion': ['gini', 'entropy'],\n",
    "    'max_depth': [None, 2, 6, 10],\n",
    "    'min_samples_split': [5, 10],\n",
    "    'min_samples_leaf': [3, 6]\n",
    "}\n",
    "\n",
    "rf_grid = GridSearchCV(estimator=rf, \n",
    "                          param_grid=rf_params, \n",
    "                          scoring='accuracy', \n",
    "                          cv=5)\n",
    "\n",
    "rf_grid.fit(X_train, y_train)\n",
    "rf_grid.score(X_test, y_test)"
   ]
  },
  {
   "cell_type": "markdown",
   "metadata": {},
   "source": [
    "# AdaBoosting"
   ]
  },
  {
   "cell_type": "code",
   "execution_count": 354,
   "metadata": {
    "ExecuteTime": {
     "end_time": "2020-02-20T20:55:25.818976Z",
     "start_time": "2020-02-20T20:55:15.796775Z"
    }
   },
   "outputs": [
    {
     "name": "stderr",
     "output_type": "stream",
     "text": [
      "/opt/anaconda3/lib/python3.7/site-packages/sklearn/model_selection/_search.py:814: DeprecationWarning: The default of the `iid` parameter will change from True to False in version 0.22 and will be removed in 0.24. This will change numeric results when test-set sizes are unequal.\n",
      "  DeprecationWarning)\n"
     ]
    },
    {
     "data": {
      "text/plain": [
       "0.993006993006993"
      ]
     },
     "execution_count": 354,
     "metadata": {},
     "output_type": "execute_result"
    }
   ],
   "source": [
    "ada = AdaBoostClassifier()\n",
    "\n",
    "ada_params = {'base_estimator': [DecisionTreeClassifier(max_depth=1), \n",
    "                                 DecisionTreeClassifier(max_depth=2),\n",
    "                                DecisionTreeClassifier(max_depth=3)],\n",
    "             'n_estimators': [20,30,50],\n",
    "             'learning_rate' : [0.1,0.3,0.4]}\n",
    "\n",
    "ada_grid = GridSearchCV(estimator=ada, \n",
    "                          param_grid=ada_params, \n",
    "                          scoring='accuracy', \n",
    "                          cv=5)\n",
    "\n",
    "ada_grid.fit(X_train, y_train)\n",
    "ada_grid.score(X_test, y_test)"
   ]
  },
  {
   "cell_type": "markdown",
   "metadata": {},
   "source": [
    "# Gradient Boosting"
   ]
  },
  {
   "cell_type": "code",
   "execution_count": 373,
   "metadata": {
    "ExecuteTime": {
     "end_time": "2020-02-20T21:22:22.812659Z",
     "start_time": "2020-02-20T21:22:15.958953Z"
    }
   },
   "outputs": [
    {
     "data": {
      "text/plain": [
       "1.0"
      ]
     },
     "execution_count": 373,
     "metadata": {},
     "output_type": "execute_result"
    }
   ],
   "source": [
    "gbt = GradientBoostingClassifier()\n",
    "\n",
    "gbt_params = {'learning_rate' : [0.1,0.3,0.4],\n",
    "                 'max_features' : [5,10,15],\n",
    "                 'max_depth' : [2,3,5]}\n",
    "\n",
    "gbt_grid = GridSearchCV(estimator=gbt, \n",
    "                          param_grid=gbt_params, \n",
    "                          scoring='accuracy', \n",
    "                          cv=5)\n",
    "\n",
    "gbt_grid.fit(X_train, y_train)\n",
    "gbt_grid.score(X_test, y_test)"
   ]
  },
  {
   "cell_type": "markdown",
   "metadata": {},
   "source": [
    "# XG Boost"
   ]
  },
  {
   "cell_type": "code",
   "execution_count": 365,
   "metadata": {
    "ExecuteTime": {
     "end_time": "2020-02-20T21:16:08.520135Z",
     "start_time": "2020-02-20T21:14:26.083323Z"
    }
   },
   "outputs": [
    {
     "name": "stderr",
     "output_type": "stream",
     "text": [
      "/opt/anaconda3/lib/python3.7/site-packages/sklearn/model_selection/_search.py:814: DeprecationWarning: The default of the `iid` parameter will change from True to False in version 0.22 and will be removed in 0.24. This will change numeric results when test-set sizes are unequal.\n",
      "  DeprecationWarning)\n"
     ]
    },
    {
     "data": {
      "text/plain": [
       "0.972027972027972"
      ]
     },
     "execution_count": 365,
     "metadata": {},
     "output_type": "execute_result"
    }
   ],
   "source": [
    "xg = xgb.XGBClassifier()\n",
    "\n",
    "xg_grid = {\n",
    "    \"learning_rate\": [0.1,0.3,0.4],\n",
    "    'max_depth': [2,3,4,5],\n",
    "    'min_child_weight': [2,4,6,8],\n",
    "    'subsample': [ 0.3,0.4,0.5],\n",
    "    'n_estimators': [5, 30, 100, 250],\n",
    "}\n",
    "\n",
    "xg_grid = GridSearchCV(xg, \n",
    "                       xg_grid, \n",
    "                       scoring='accuracy', \n",
    "                       cv=5, n_jobs=1)\n",
    "\n",
    "xg_grid.fit(X_train, y_train)\n",
    "xg_grid.score(X_test, y_test)"
   ]
  },
  {
   "cell_type": "markdown",
   "metadata": {},
   "source": [
    "**Please report your best performing model**\n",
    "This report should include:\n",
    "1. The name of the algorithm\n",
    "2. The parameters used for that model\n",
    "3. A classification report\n",
    "4. A confusion matrix (ideally as a heatmap)\n",
    "5. An interpretation of classification metrics"
   ]
  },
  {
   "cell_type": "code",
   "execution_count": 4,
   "metadata": {
    "ExecuteTime": {
     "end_time": "2020-02-20T21:44:08.000414Z",
     "start_time": "2020-02-20T21:44:07.995107Z"
    }
   },
   "outputs": [],
   "source": [
    "def evaluation(y, y_hat, title = 'Confusion Matrix'):\n",
    "    '''takes in predicted and true values.\n",
    "    The function then prints out a classifcation report\n",
    "    as well as a confusion matrix using seaborn's heatmap.'''\n",
    "    \n",
    "    import seaborn as sns\n",
    "    cm = confusion_matrix(y, y_hat)\n",
    "    precision = precision_score(y, y_hat, average = 'weighted')\n",
    "    recall = recall_score(y, y_hat, average = 'weighted')\n",
    "    accuracy = accuracy_score(y,y_hat)\n",
    "    print(classification_report(y, y_hat))\n",
    "    print('Accurancy: ', accuracy)\n",
    "    sns.heatmap(cm,  cmap= 'Greens', annot=True)\n",
    "    plt.xlabel('predicted')\n",
    "    plt.ylabel('actual')\n",
    "    plt.title(title)\n",
    "    plt.show()"
   ]
  },
  {
   "cell_type": "code",
   "execution_count": 7,
   "metadata": {
    "ExecuteTime": {
     "end_time": "2020-02-20T21:44:25.039469Z",
     "start_time": "2020-02-20T21:44:24.891363Z"
    }
   },
   "outputs": [
    {
     "name": "stdout",
     "output_type": "stream",
     "text": [
      "              precision    recall  f1-score   support\n",
      "\n",
      "           0       1.00      0.96      0.98        26\n",
      "           1       0.97      1.00      0.98        31\n",
      "\n",
      "    accuracy                           0.98        57\n",
      "   macro avg       0.98      0.98      0.98        57\n",
      "weighted avg       0.98      0.98      0.98        57\n",
      "\n",
      "Accurancy:  0.9824561403508771\n"
     ]
    },
    {
     "data": {
      "image/png": "[encoded data removed]",
      "text/plain": [
       "<Figure size 432x288 with 2 Axes>"
      ]
     },
     "metadata": {
      "needs_background": "light"
     },
     "output_type": "display_data"
    }
   ],
   "source": [
    "\n",
    "y_hat = knn_grid.predict(X_test)\n",
    "evaluation(y_test, y_hat)"
   ]
  },
  {
   "cell_type": "code",
   "execution_count": null,
   "metadata": {},
   "outputs": [],
   "source": []
  }
 ],
 "metadata": {
  "kernelspec": {
   "display_name": "Python 3",
   "language": "python",
   "name": "python3"
  },
  "language_info": {
   "codemirror_mode": {
    "name": "ipython",
    "version": 3
   },
   "file_extension": ".py",
   "mimetype": "text/x-python",
   "name": "python",
   "nbconvert_exporter": "python",
   "pygments_lexer": "ipython3",
   "version": "3.7.4"
  },
  "toc": {
   "base_numbering": 1,
   "nav_menu": {},
   "number_sections": true,
   "sideBar": true,
   "skip_h1_title": false,
   "title_cell": "Table of Contents",
   "title_sidebar": "Contents",
   "toc_cell": false,
   "toc_position": {},
   "toc_section_display": true,
   "toc_window_display": false
  }
 },
 "nbformat": 4,
 "nbformat_minor": 2
}

{
 "cells": [
  {
   "cell_type": "code",
   "execution_count": 2,
   "metadata": {},
   "outputs": [],
   "source": [
    "import pandas as pd\n",
    "import seaborn as sns\n",
    "import numpy as np\n",
    "import matplotlib.pyplot as plt\n",
    "from data_cleaner import clean_df"
   ]
  },
  {
   "cell_type": "markdown",
   "metadata": {},
   "source": [
    "# Hive mind activation\n",
    "![](https://media.giphy.com/media/26gR0BZV9XBavwbyE/giphy.gif)\n",
    "\n",
    "Documenting best practices:\n",
    "\n",
    "In groups: [article 1](https://www.jackhagley.com/What-s-the-difference-between-an-Infographic-and-a-Data-Visualisation), [article 2](https://thoughtbot.com/blog/analyzing-minards-visualization-of-napoleons-1812-march), [article 3](http://dataremixed.com/2016/04/the-design-of-everyday-visualizations/), [article 4](https://visme.co/blog/data-storytelling-tips/), [article 5](https://www.tableau.com/learn/articles/best-beautiful-data-visualization-examples)\n",
    "\n",
    "To fill in: [Best practices doc](https://docs.google.com/document/d/1wc5mPyBlMZUPRsI046JQQSTaV-NmN0f1UvhK6uJqmIU/edit?usp=sharing) "
   ]
  },
  {
   "cell_type": "code",
   "execution_count": 4,
   "metadata": {},
   "outputs": [],
   "source": [
    "\n",
    "# Load the example dataset for Anscombe's quartet\n",
    "df = sns.load_dataset(\"anscombe\")\n"
   ]
  },
  {
   "cell_type": "code",
   "execution_count": null,
   "metadata": {},
   "outputs": [],
   "source": []
  },
  {
   "cell_type": "code",
   "execution_count": 8,
   "metadata": {
    "scrolled": true
   },
   "outputs": [],
   "source": [
    "sns.set(style=\"ticks\")\n",
    "\n",
    "# Show the results of a linear regression within each dataset\n"
   ]
  },
  {
   "cell_type": "code",
   "execution_count": null,
   "metadata": {},
   "outputs": [],
   "source": []
  },
  {
   "cell_type": "code",
   "execution_count": null,
   "metadata": {},
   "outputs": [],
   "source": [
    "# Let's reimport the animal and heart data we have been working with\n",
    "# along with our cleaner."
   ]
  },
  {
   "cell_type": "code",
   "execution_count": null,
   "metadata": {},
   "outputs": [],
   "source": [
    "#https://data.austintexas.gov/api/views/9t4d-g238/rows.csv?accessType=DOWNLOAD\n",
    "animal_df = clean_df(pd.read_csv('animals.csv'))\n",
    "animal_df.head()"
   ]
  },
  {
   "cell_type": "code",
   "execution_count": null,
   "metadata": {},
   "outputs": [],
   "source": [
    "# https://www.kaggle.com/ronitf/heart-disease-uci.\n",
    "heart_df = pd.read_csv('heart.csv')\n",
    "heart_df.head()"
   ]
  },
  {
   "cell_type": "code",
   "execution_count": null,
   "metadata": {},
   "outputs": [],
   "source": [
    "# Briefly back to our task of plotting our data by month of outcome."
   ]
  },
  {
   "cell_type": "code",
   "execution_count": null,
   "metadata": {},
   "outputs": [],
   "source": [
    "\n",
    "plt.bar(x = values, height = counts, color = 'red')\n",
    "plt.xlabel('Month')\n",
    "plt.ylabel('Outcomes')\n",
    "plt.title('Outcomes by month in Austin animal shelter')"
   ]
  },
  {
   "cell_type": "code",
   "execution_count": null,
   "metadata": {},
   "outputs": [],
   "source": []
  },
  {
   "cell_type": "markdown",
   "metadata": {},
   "source": [
    "### Histogram Revisited\n",
    "Histograms are like barplots in the sense that it describe __one-dimensional__ data. A histogram divides the variable into bins, counts the number of observations in each bin, and shows the bins on the x-axis and the frequency on the y-axis. It is used for visualizing __continuous__ variables. <br>\n",
    "\n",
    "From the documentation: compute and draw the histogram of x. The return value is a tuple (__n, bins, patches__) or ([n0, n1, ...], bins, [patches0, patches1,...]) if the input contains multiple data."
   ]
  },
  {
   "cell_type": "markdown",
   "metadata": {},
   "source": [
    "Comparison of barplots and histogram\n",
    "<img src='img/hist.png'>"
   ]
  },
  {
   "cell_type": "code",
   "execution_count": null,
   "metadata": {},
   "outputs": [],
   "source": [
    "# Knowledge check? \n",
    "# How can I make an approximately equivalent plot of the months plot\n",
    "# using one of our histogram plots: df.hist(), plt.hist(), sns.distplot()\n"
   ]
  },
  {
   "cell_type": "code",
   "execution_count": null,
   "metadata": {},
   "outputs": [],
   "source": [
    "# When we create a histogram of random integers, it is not very interesting!\n",
    "numbers = np.random.randint(1,1000, size = 1000) \n",
    "plt.hist(numbers, bins = 10)\n",
    "plt.show()"
   ]
  },
  {
   "cell_type": "code",
   "execution_count": null,
   "metadata": {},
   "outputs": [],
   "source": [
    "numbers = np.random.normal(0, 1, 1000)\n",
    "plt.hist(numbers, bins = 10) # if we change the bin numbers, it will look smoother\n",
    "plt.show()"
   ]
  },
  {
   "cell_type": "code",
   "execution_count": null,
   "metadata": {},
   "outputs": [],
   "source": [
    "#Seaborn\n"
   ]
  },
  {
   "cell_type": "code",
   "execution_count": null,
   "metadata": {},
   "outputs": [],
   "source": [
    "# Extra: if I take the mean of random subsets of random numbers\n",
    "# what would the distribution look like?\n",
    "# let's try!\n",
    "\n",
    "mean_list = []"
   ]
  },
  {
   "cell_type": "code",
   "execution_count": null,
   "metadata": {},
   "outputs": [],
   "source": [
    "dog_df = animal_df[animal_df['Animal Type'] == 'Dog']\n",
    "cat_df = animal_df[animal_df['Animal Type'] == 'Cat']\n",
    "bird_df = animal_df[animal_df['Animal Type'] == 'Bird']\n",
    "\n",
    "n, bins, patches = plt.hist(cat_df['days_at_outcome'], bins=20, alpha = 0.25)\n",
    "plt.hist(bird_df['days_at_outcome'], bins=30)\n",
    "plt.hist(dog_df['days_at_outcome'], bins=20, alpha = 0.1) # alpha can be toggled to show overlapping data\n",
    "plt.title(\"Distributions Ages of Dogs, Cats, and Birds\\n at the Austin Animal Shelter\")\n",
    "plt.xlabel('Days old at shelter at time of outcome')\n",
    "plt.ylabel('Count')\n",
    "plt.show()"
   ]
  },
  {
   "cell_type": "code",
   "execution_count": null,
   "metadata": {},
   "outputs": [],
   "source": [
    "## let's look at the Seaborn equivalent"
   ]
  },
  {
   "cell_type": "code",
   "execution_count": null,
   "metadata": {},
   "outputs": [],
   "source": []
  },
  {
   "cell_type": "code",
   "execution_count": null,
   "metadata": {},
   "outputs": [],
   "source": [
    "## Another way with Pandas\n",
    "animal_df.hist()\n",
    "plt.show()"
   ]
  },
  {
   "cell_type": "code",
   "execution_count": null,
   "metadata": {},
   "outputs": [],
   "source": [
    "heart_df.hist(figsize=(10,10))\n",
    "\n",
    "plt.show()"
   ]
  },
  {
   "cell_type": "markdown",
   "metadata": {},
   "source": [
    "### 2. Boxplots\n",
    "Boxplots are a very informative type of visualization tool because it allows us to know the distribution of the data. \n",
    "<img src='img/boxplot.png'>"
   ]
  },
  {
   "cell_type": "code",
   "execution_count": null,
   "metadata": {},
   "outputs": [],
   "source": []
  },
  {
   "cell_type": "code",
   "execution_count": null,
   "metadata": {},
   "outputs": [],
   "source": [
    "# What does this say about our distributions? For animal type and days_at_outcome"
   ]
  },
  {
   "cell_type": "code",
   "execution_count": null,
   "metadata": {},
   "outputs": [],
   "source": [
    "fig = plt.subplots() #toggling sharey effectively changes the scale\n",
    "dog_df = animal_df[animal_df['Animal Type'] == 'Dog']\n",
    "cat_df = animal_df[animal_df['Animal Type'] == 'Cat']\n",
    "bird_df = animal_df[animal_df['Animal Type'] == 'Bird']\n",
    "\n",
    "\n",
    "\n",
    "# toggle showfliers to not show outliers\n",
    " # One way to fix the axis label problem                               "
   ]
  },
  {
   "cell_type": "code",
   "execution_count": null,
   "metadata": {},
   "outputs": [],
   "source": []
  },
  {
   "cell_type": "code",
   "execution_count": null,
   "metadata": {},
   "outputs": [],
   "source": [
    "## Another way with Pandas\n",
    "animal_df.boxplot()\n",
    "plt.show()"
   ]
  },
  {
   "cell_type": "code",
   "execution_count": null,
   "metadata": {},
   "outputs": [],
   "source": [
    "heart_df.boxplot()\n",
    "plt.tight_layout()\n",
    "plt.xticks(rotation = 90)\n",
    "plt.show()"
   ]
  },
  {
   "cell_type": "code",
   "execution_count": null,
   "metadata": {},
   "outputs": [],
   "source": [
    "from sklearn.preprocessing import StandardScaler # we will get to these libraries\n",
    "ss = StandardScaler()\n",
    "ss_heart = pd.DataFrame(ss.fit_transform(heart_df)) # scale the data to better show the relationships\n",
    "ss_heart.columns = heart_df.columns\n",
    "ss_heart.boxplot()\n",
    "plt.xticks(rotation = 90)\n",
    "plt.title('Scaled heart_df boxplots')\n",
    "plt.show()"
   ]
  },
  {
   "cell_type": "markdown",
   "metadata": {},
   "source": [
    "# Scatter plots!\n",
    "\n",
    "![cats scattering](http://giphygifs.s3.amazonaws.com/media/H73nLSMPixSXC/giphy.gif)\n",
    "### 3. Scatterplot - visualizing two dimensional data\n",
    "Scatterplots are usually used for visualizing two dimensional data (observations with two variables). It allows us to examine the relationship between two variables, thus it is sometimes called a correlation plot. "
   ]
  },
  {
   "cell_type": "code",
   "execution_count": null,
   "metadata": {},
   "outputs": [],
   "source": [
    "# generate some data -> the sine wave\n",
    "x = np.linspace(0, 10)\n",
    "y = np.sin(x)\n",
    "\n",
    "plt.scatter(x, y, label = \"Function: sin(x)\")\n",
    "plt.title('Scatter Plot in Matplotlib')\n",
    "plt.legend()\n",
    "#n=1"
   ]
  },
  {
   "cell_type": "code",
   "execution_count": null,
   "metadata": {},
   "outputs": [],
   "source": [
    "# examining correlation with height and weight \n",
    "height = [63,62,60,63,64,65,68,67,64,71,72,70,73]\n",
    "weight = [120,115,114,119,125,130,135,140,128,140,150,165,180]\n",
    "plt.scatter(height, weight,color = 'r', marker = 'o') #toggle marker to change shape (+,^, o)"
   ]
  },
  {
   "cell_type": "code",
   "execution_count": null,
   "metadata": {},
   "outputs": [],
   "source": [
    "sns.scatterplot(height, weight, marker = '+') # similar notation to toggle markers in Seaborn\n",
    "plt.title('Seaborn Scatter: Height vs Weight')\n",
    "plt.xlabel('Height')\n",
    "plt.ylabel('Weight')\n",
    "plt.plot()\n",
    "plt.show()"
   ]
  },
  {
   "cell_type": "code",
   "execution_count": null,
   "metadata": {},
   "outputs": [],
   "source": [
    "#seabdorn\n",
    " # toggle ci to get rid of the 95% confidence interval"
   ]
  },
  {
   "cell_type": "code",
   "execution_count": null,
   "metadata": {},
   "outputs": [],
   "source": [
    "# lmplot is very similar, but try running type on the object.\n"
   ]
  },
  {
   "cell_type": "markdown",
   "metadata": {},
   "source": [
    "# Pairplot to the rescue!\n",
    "![](https://media.giphy.com/media/FQVZk2elXU14Q/giphy.gif)"
   ]
  },
  {
   "cell_type": "code",
   "execution_count": null,
   "metadata": {},
   "outputs": [],
   "source": [
    "# Pairplot is a great way to quickly get a glimpse of the relationships\n",
    "# between variables.\n"
   ]
  },
  {
   "cell_type": "markdown",
   "metadata": {},
   "source": [
    "# Correlation and Heatmaps!\n",
    "![](https://media.giphy.com/media/3oKIPxua1XGPonJm3C/giphy.gif)"
   ]
  },
  {
   "cell_type": "code",
   "execution_count": null,
   "metadata": {},
   "outputs": [],
   "source": [
    "# Whereas pairplots can be somewhat subjective, correlations can give \n",
    "# us a numerical representation.\n",
    "heart_df[first_five].corr()"
   ]
  },
  {
   "cell_type": "code",
   "execution_count": null,
   "metadata": {},
   "outputs": [],
   "source": [
    "# We can then use the heatmap plot to give a different type of correlation\n",
    "# visualization\n"
   ]
  },
  {
   "cell_type": "code",
   "execution_count": null,
   "metadata": {},
   "outputs": [],
   "source": []
  },
  {
   "cell_type": "markdown",
   "metadata": {},
   "source": [
    "# Layering\n",
    "\n",
    "![cake layers](https://media.giphy.com/media/XMgCFjsCSARxK/giphy.gif)"
   ]
  },
  {
   "cell_type": "code",
   "execution_count": null,
   "metadata": {},
   "outputs": [],
   "source": [
    "for key, group_indices in heart_df.groupby('sex').indices.items():\n",
    "    group = heart_df.loc[group_indices]\n",
    "    plt.scatter(group['age'], group['trestbps'], label = key)\n",
    "    \n",
    "plt.legend()"
   ]
  },
  {
   "cell_type": "code",
   "execution_count": null,
   "metadata": {},
   "outputs": [],
   "source": [
    "for key, group_indices in heart_df.groupby('sex').indices.items():\n",
    "    group = heart_df.loc[group_indices]\n",
    "    sns.scatterplot(group['age'], group['trestbps'], label = key)\n",
    "\n",
    "plt.legend()\n",
    "plt.title('Trestbps vs Age\\n in Male and Female Participants')\n",
    "plt.show()"
   ]
  },
  {
   "cell_type": "code",
   "execution_count": null,
   "metadata": {},
   "outputs": [],
   "source": [
    "heart_df['age_bins'] = pd.cut(heart_df['age'], bins = 3)\n",
    "for key, group_indices in heart_df.groupby(age_bins).indices.items():\n",
    "    group = heart_df.loc[group_indices]\n",
    "    plt.scatter(group['age'], group['trestbps'])"
   ]
  },
  {
   "cell_type": "markdown",
   "metadata": {},
   "source": [
    "# Seaborn and fancy color warning"
   ]
  },
  {
   "cell_type": "code",
   "execution_count": null,
   "metadata": {},
   "outputs": [],
   "source": [
    "sns.barplot(values, counts) # this looks very nice, but, we want to be intentional with our colors.\n"
   ]
  },
  {
   "cell_type": "code",
   "execution_count": null,
   "metadata": {},
   "outputs": [],
   "source": [
    "# Finally, use the help function if you want a description \n",
    "# of a method's capabilities\n",
    "help(plt.boxplot)"
   ]
  },
  {
   "cell_type": "code",
   "execution_count": null,
   "metadata": {},
   "outputs": [],
   "source": []
  },
  {
   "cell_type": "code",
   "execution_count": null,
   "metadata": {},
   "outputs": [],
   "source": []
  }
 ],
 "metadata": {
  "kernelspec": {
   "display_name": "Python 3",
   "language": "python",
   "name": "python3"
  },
  "language_info": {
   "codemirror_mode": {
    "name": "ipython",
    "version": 3
   },
   "file_extension": ".py",
   "mimetype": "text/x-python",
   "name": "python",
   "nbconvert_exporter": "python",
   "pygments_lexer": "ipython3",
   "version": "3.7.3"
  }
 },
 "nbformat": 4,
 "nbformat_minor": 4
}
